{
 "cells": [
  {
   "cell_type": "markdown",
   "metadata": {},
   "source": [
    "# Preprocessing and feature engineering"
   ]
  },
  {
   "cell_type": "code",
   "execution_count": 23,
   "metadata": {
    "collapsed": false
   },
   "outputs": [],
   "source": [
    "%matplotlib inline\n",
    "\n",
    "import numpy as np\n",
    "import pandas as pd\n",
    "import matplotlib.pyplot as plt\n",
    "\n",
    "DATAFOLDER = '../data/'"
   ]
  },
  {
   "cell_type": "code",
   "execution_count": 2,
   "metadata": {
    "collapsed": false
   },
   "outputs": [
    {
     "data": {
      "text/html": [
       "<div>\n",
       "<table border=\"1\" class=\"dataframe\">\n",
       "  <thead>\n",
       "    <tr style=\"text-align: right;\">\n",
       "      <th></th>\n",
       "      <th>AnimalID</th>\n",
       "      <th>Name</th>\n",
       "      <th>DateTime</th>\n",
       "      <th>OutcomeType</th>\n",
       "      <th>OutcomeSubtype</th>\n",
       "      <th>AnimalType</th>\n",
       "      <th>SexuponOutcome</th>\n",
       "      <th>AgeuponOutcome</th>\n",
       "      <th>Breed</th>\n",
       "      <th>Color</th>\n",
       "    </tr>\n",
       "  </thead>\n",
       "  <tbody>\n",
       "    <tr>\n",
       "      <th>0</th>\n",
       "      <td>A671945</td>\n",
       "      <td>Hambone</td>\n",
       "      <td>2014-02-12 18:22:00</td>\n",
       "      <td>Return_to_owner</td>\n",
       "      <td>NaN</td>\n",
       "      <td>Dog</td>\n",
       "      <td>Neutered Male</td>\n",
       "      <td>1 year</td>\n",
       "      <td>Shetland Sheepdog Mix</td>\n",
       "      <td>Brown/White</td>\n",
       "    </tr>\n",
       "    <tr>\n",
       "      <th>1</th>\n",
       "      <td>A656520</td>\n",
       "      <td>Emily</td>\n",
       "      <td>2013-10-13 12:44:00</td>\n",
       "      <td>Euthanasia</td>\n",
       "      <td>Suffering</td>\n",
       "      <td>Cat</td>\n",
       "      <td>Spayed Female</td>\n",
       "      <td>1 year</td>\n",
       "      <td>Domestic Shorthair Mix</td>\n",
       "      <td>Cream Tabby</td>\n",
       "    </tr>\n",
       "    <tr>\n",
       "      <th>2</th>\n",
       "      <td>A686464</td>\n",
       "      <td>Pearce</td>\n",
       "      <td>2015-01-31 12:28:00</td>\n",
       "      <td>Adoption</td>\n",
       "      <td>Foster</td>\n",
       "      <td>Dog</td>\n",
       "      <td>Neutered Male</td>\n",
       "      <td>2 years</td>\n",
       "      <td>Pit Bull Mix</td>\n",
       "      <td>Blue/White</td>\n",
       "    </tr>\n",
       "    <tr>\n",
       "      <th>3</th>\n",
       "      <td>A683430</td>\n",
       "      <td>NaN</td>\n",
       "      <td>2014-07-11 19:09:00</td>\n",
       "      <td>Transfer</td>\n",
       "      <td>Partner</td>\n",
       "      <td>Cat</td>\n",
       "      <td>Intact Male</td>\n",
       "      <td>3 weeks</td>\n",
       "      <td>Domestic Shorthair Mix</td>\n",
       "      <td>Blue Cream</td>\n",
       "    </tr>\n",
       "    <tr>\n",
       "      <th>4</th>\n",
       "      <td>A667013</td>\n",
       "      <td>NaN</td>\n",
       "      <td>2013-11-15 12:52:00</td>\n",
       "      <td>Transfer</td>\n",
       "      <td>Partner</td>\n",
       "      <td>Dog</td>\n",
       "      <td>Neutered Male</td>\n",
       "      <td>2 years</td>\n",
       "      <td>Lhasa Apso/Miniature Poodle</td>\n",
       "      <td>Tan</td>\n",
       "    </tr>\n",
       "  </tbody>\n",
       "</table>\n",
       "</div>"
      ],
      "text/plain": [
       "  AnimalID     Name            DateTime      OutcomeType OutcomeSubtype  \\\n",
       "0  A671945  Hambone 2014-02-12 18:22:00  Return_to_owner            NaN   \n",
       "1  A656520    Emily 2013-10-13 12:44:00       Euthanasia      Suffering   \n",
       "2  A686464   Pearce 2015-01-31 12:28:00         Adoption         Foster   \n",
       "3  A683430      NaN 2014-07-11 19:09:00         Transfer        Partner   \n",
       "4  A667013      NaN 2013-11-15 12:52:00         Transfer        Partner   \n",
       "\n",
       "  AnimalType SexuponOutcome AgeuponOutcome                        Breed  \\\n",
       "0        Dog  Neutered Male         1 year        Shetland Sheepdog Mix   \n",
       "1        Cat  Spayed Female         1 year       Domestic Shorthair Mix   \n",
       "2        Dog  Neutered Male        2 years                 Pit Bull Mix   \n",
       "3        Cat    Intact Male        3 weeks       Domestic Shorthair Mix   \n",
       "4        Dog  Neutered Male        2 years  Lhasa Apso/Miniature Poodle   \n",
       "\n",
       "         Color  \n",
       "0  Brown/White  \n",
       "1  Cream Tabby  \n",
       "2   Blue/White  \n",
       "3   Blue Cream  \n",
       "4          Tan  "
      ]
     },
     "execution_count": 2,
     "metadata": {},
     "output_type": "execute_result"
    }
   ],
   "source": [
    "df = pd.read_csv(DATAFOLDER + 'train.csv', parse_dates=['DateTime'])\n",
    "df.head()"
   ]
  },
  {
   "cell_type": "code",
   "execution_count": 3,
   "metadata": {
    "collapsed": false
   },
   "outputs": [],
   "source": [
    "# Divide training set in input and output\n",
    "# X = input, y = output to predict\n",
    "col = df.columns.tolist()\n",
    "col.remove('OutcomeType')\n",
    "col.remove('OutcomeSubtype')\n",
    "X = df[col]\n",
    "y = df['OutcomeType']"
   ]
  },
  {
   "cell_type": "markdown",
   "metadata": {},
   "source": [
    "## Dataset analysis"
   ]
  },
  {
   "cell_type": "code",
   "execution_count": 4,
   "metadata": {
    "collapsed": false
   },
   "outputs": [
    {
     "name": "stdout",
     "output_type": "stream",
     "text": [
      "Repartition of the classes\n",
      "--------------------------\n",
      "Adoption          40.29 %\n",
      "Transfer          35.25 %\n",
      "Return_to_owner   17.91 %\n",
      "Euthanasia         5.82 %\n",
      "Died               0.74 %\n"
     ]
    }
   ],
   "source": [
    "print('Repartition of the classes')\n",
    "print('--------------------------')\n",
    "for outcome, rate in y.value_counts(normalize=True).items():\n",
    "    print('{:15} {:>7.2f} %'.format(outcome, 100 * rate))"
   ]
  },
  {
   "cell_type": "code",
   "execution_count": 5,
   "metadata": {
    "collapsed": false
   },
   "outputs": [
    {
     "name": "stdout",
     "output_type": "stream",
     "text": [
      "Rate of unknown values by column\n",
      "--------------------------------\n",
      "Name             28.774%\n",
      "OutcomeSubtype   50.926%\n",
      "SexuponOutcome    0.004%\n",
      "AgeuponOutcome    0.067%\n"
     ]
    }
   ],
   "source": [
    "print('Rate of unknown values by column')\n",
    "print('--------------------------------')\n",
    "for c in df.columns:\n",
    "    if df[df[c].isnull()].shape[0] == 0:\n",
    "        continue\n",
    "    print('{:15} {:>7.3f}%'.format(c, 100 * df[df[c].isnull()].shape[0] / df.shape[0]))"
   ]
  },
  {
   "cell_type": "code",
   "execution_count": 6,
   "metadata": {
    "collapsed": false
   },
   "outputs": [
    {
     "data": {
      "text/html": [
       "<div>\n",
       "<table border=\"1\" class=\"dataframe\">\n",
       "  <thead>\n",
       "    <tr style=\"text-align: right;\">\n",
       "      <th></th>\n",
       "      <th>AnimalID</th>\n",
       "      <th>Name</th>\n",
       "      <th>DateTime</th>\n",
       "      <th>OutcomeType</th>\n",
       "      <th>OutcomeSubtype</th>\n",
       "      <th>AnimalType</th>\n",
       "      <th>SexuponOutcome</th>\n",
       "      <th>AgeuponOutcome</th>\n",
       "      <th>Breed</th>\n",
       "      <th>Color</th>\n",
       "    </tr>\n",
       "  </thead>\n",
       "  <tbody>\n",
       "    <tr>\n",
       "      <th>3174</th>\n",
       "      <td>A667395</td>\n",
       "      <td>Diego</td>\n",
       "      <td>2013-11-27 16:11:00</td>\n",
       "      <td>Return_to_owner</td>\n",
       "      <td>NaN</td>\n",
       "      <td>Dog</td>\n",
       "      <td>NaN</td>\n",
       "      <td>7 years</td>\n",
       "      <td>Dachshund</td>\n",
       "      <td>Brown Merle</td>\n",
       "    </tr>\n",
       "  </tbody>\n",
       "</table>\n",
       "</div>"
      ],
      "text/plain": [
       "     AnimalID   Name            DateTime      OutcomeType OutcomeSubtype  \\\n",
       "3174  A667395  Diego 2013-11-27 16:11:00  Return_to_owner            NaN   \n",
       "\n",
       "     AnimalType SexuponOutcome AgeuponOutcome      Breed        Color  \n",
       "3174        Dog            NaN        7 years  Dachshund  Brown Merle  "
      ]
     },
     "execution_count": 6,
     "metadata": {},
     "output_type": "execute_result"
    }
   ],
   "source": [
    "# Missing values for the Sex\n",
    "df[df['SexuponOutcome'].isnull()]"
   ]
  },
  {
   "cell_type": "markdown",
   "metadata": {},
   "source": [
    "There is only one missing value for the sex. As the outcomeSubtype is also missing, it might be simpler to drop this input."
   ]
  },
  {
   "cell_type": "code",
   "execution_count": 7,
   "metadata": {
    "collapsed": false
   },
   "outputs": [
    {
     "name": "stdout",
     "output_type": "stream",
     "text": [
      "Number of different values by columns\n",
      "-------------------------------------\n",
      "AnimalID          26729\n",
      "Name               6374\n",
      "DateTime          22918\n",
      "OutcomeType           5\n",
      "OutcomeSubtype       16\n",
      "AnimalType            2\n",
      "SexuponOutcome        5\n",
      "AgeuponOutcome       44\n",
      "Breed              1380\n",
      "Color               366\n"
     ]
    }
   ],
   "source": [
    "print('Number of different values by columns')\n",
    "print('-------------------------------------')\n",
    "for c in df.columns:\n",
    "    print('{:15} {:>7}'.format(c, df[c].value_counts().shape[0]))"
   ]
  },
  {
   "cell_type": "code",
   "execution_count": 8,
   "metadata": {
    "collapsed": false
   },
   "outputs": [
    {
     "name": "stdout",
     "output_type": "stream",
     "text": [
      "Repartition Dog/Cat\n",
      "-------------------\n",
      "Dog  15595  58.345%\n",
      "Cat  11134  41.655%\n"
     ]
    }
   ],
   "source": [
    "print('Repartition Dog/Cat')\n",
    "print('-------------------')\n",
    "for k, v in df['AnimalType'].value_counts().items():\n",
    "    print('{:5}{:>5}  {:.3f}%'.format(k, v, 100 * v / df.shape[0]))"
   ]
  },
  {
   "cell_type": "markdown",
   "metadata": {},
   "source": [
    "## First remarks\n",
    "\n",
    "Names: some unknown values\n",
    "\n",
    "To change:\n",
    "- DateTime $\\rightarrow$ from string to year, month, day, hour, weekday, holiday\n",
    "- SexuponOutcome $\\rightarrow$ make multiple categories\n",
    "- AgeuponOutcome $\\rightarrow$ from string to integer (in number of weeks)\n",
    "- Breed $\\rightarrow$ reduce the number of breed by using categories\n",
    "- Color $\\rightarrow$ change to a smaller number of categories\n",
    "\n",
    "Ideas:\n",
    "- Names<br>\n",
    "    - Try to see name origin"
   ]
  },
  {
   "cell_type": "markdown",
   "metadata": {},
   "source": [
    "### Datetime"
   ]
  },
  {
   "cell_type": "code",
   "execution_count": 9,
   "metadata": {
    "collapsed": false
   },
   "outputs": [],
   "source": [
    "def process_date(X):\n",
    "    # Add new columns\n",
    "    X['Hour']    = X['DateTime'].dt.hour\n",
    "    X['Day']     = X['DateTime'].dt.day\n",
    "    X['Weekday'] = X['DateTime'].dt.weekday\n",
    "    X['Month']   = X['DateTime'].dt.month\n",
    "    X['Year']    = X['DateTime'].dt.year\n",
    "    # Delete the DateTime column\n",
    "    X = X.drop(labels=['DateTime'], axis=1)"
   ]
  },
  {
   "cell_type": "markdown",
   "metadata": {},
   "source": [
    "### Age"
   ]
  },
  {
   "cell_type": "code",
   "execution_count": 10,
   "metadata": {
    "collapsed": false
   },
   "outputs": [],
   "source": [
    "def process_age(X):\n",
    "    def age_in_weeks(age):\n",
    "        \"\"\"Change from age in weeks and years to age in week only.\"\"\"\n",
    "        if isinstance(age, float):\n",
    "            return -100000\n",
    "        nb, period = age.split()\n",
    "        return 52 * int(nb) if period.startswith('year') else int(nb)\n",
    "\n",
    "    X.loc[:, 'AgeuponOutcome'] = X['AgeuponOutcome'].apply(age_in_weeks)"
   ]
  },
  {
   "cell_type": "markdown",
   "metadata": {},
   "source": [
    "### Sex"
   ]
  },
  {
   "cell_type": "code",
   "execution_count": 11,
   "metadata": {
    "collapsed": false
   },
   "outputs": [],
   "source": [
    "def process_sex(X):\n",
    "    # Dummify all possible values\n",
    "    # spayed and neutered are considered the same here\n",
    "    Unknown = np.zeros(X.shape[0])\n",
    "    Male = np.zeros(X.shape[0])\n",
    "    Female = np.zeros(X.shape[0])\n",
    "    Neutered = np.zeros(X.shape[0])\n",
    "    NotNeutered = np.zeros(X.shape[0])\n",
    "\n",
    "    for i in range(X.shape[0]):\n",
    "        sex = X.loc[i, 'SexuponOutcome']\n",
    "        if isinstance(sex, float):\n",
    "            continue\n",
    "        if 'Unknown' in sex:\n",
    "            Unknown[i] = 1\n",
    "            continue\n",
    "        if 'Neutered' in sex or 'Spayed' in sex:\n",
    "            Neutered[i] = 1\n",
    "        else:\n",
    "            NotNeutered[i] = 1\n",
    "        if 'Male' in sex:\n",
    "            Male[i] = 1\n",
    "        else:\n",
    "            Female[i] = 1\n",
    "\n",
    "    X['Unknown'] = Unknown\n",
    "    X['Male'] = Male\n",
    "    X['Female'] = Female\n",
    "    X['Neutered'] = Neutered\n",
    "    X['NotNeutered'] = NotNeutered\n",
    "    X = X.drop(labels=['SexuponOutcome'], axis=1)"
   ]
  },
  {
   "cell_type": "markdown",
   "metadata": {},
   "source": [
    "### Type"
   ]
  },
  {
   "cell_type": "code",
   "execution_count": 12,
   "metadata": {
    "collapsed": false
   },
   "outputs": [],
   "source": [
    "def process_type(X):\n",
    "    # Dummify the type of animal\n",
    "    def animal_type_dummy(animal_type):\n",
    "        return 0 if animal_type == 'Dog' else 1\n",
    "\n",
    "    X.loc[:, 'AnimalType'] = X['AnimalType'].apply(animal_type_dummy)"
   ]
  },
  {
   "cell_type": "markdown",
   "metadata": {},
   "source": [
    "### Color\n",
    "\n",
    "Let's dummify by grouping according to the base colors and patterns ([More details](http://messybeast.com/colour-charts.htm)). I grouped them in nine colors and five patterns."
   ]
  },
  {
   "cell_type": "code",
   "execution_count": 13,
   "metadata": {
    "collapsed": true
   },
   "outputs": [],
   "source": [
    "colors = ['White', 'Black', 'Brown', 'Blue', 'Orange', 'Red', 'Tricolor', 'Cream', 'Gray']\n",
    "corresponding_colors = {\n",
    "    'Chocolate': 'Brown' ,\n",
    "    'Smoke'    : 'Black' ,\n",
    "    'Lilac'    : 'Gray'  ,\n",
    "    'Fawn'     : 'Cream' ,\n",
    "    'Sable'    : 'Cream' ,\n",
    "    'Yellow'   : 'Orange',\n",
    "    'Lynx'     : 'Gray'  ,\n",
    "    'Flame'    : 'Orange',\n",
    "    'Apricot'  : 'Orange',\n",
    "    'Pink'     : 'Orange',\n",
    "    'Silver'   : 'Gray'  ,\n",
    "    'Gold'     : 'Orange',\n",
    "    'Liver'    : 'Gray'  ,\n",
    "    'Ruddy'    : 'Orange'\n",
    "}\n",
    "patterns = ['Tabby', 'Point', 'Tortie', 'Tan', 'Merle']\n",
    "corresponding_patterns = {\n",
    "    'Calico' : 'Tortie',\n",
    "    'Torbie' : 'Tabby' ,\n",
    "    'Brindle': 'Tortie',\n",
    "    'Buff'   : 'Tabby' ,\n",
    "    'Seal'   : 'Point' ,\n",
    "    'Tick'   : 'Merle' ,\n",
    "    'Tiger'  : 'Tabby' ,\n",
    "    'Agouti' : 'Tabby'\n",
    "}"
   ]
  },
  {
   "cell_type": "code",
   "execution_count": 14,
   "metadata": {
    "collapsed": false
   },
   "outputs": [],
   "source": [
    "def process_color(X, colors, corresponding_colors,\n",
    "                     patterns, corresponding_patterns):\n",
    "    df_color = pd.DataFrame(np.zeros((X.shape[0], len(colors))),\n",
    "                            columns=colors)\n",
    "    df_pattern = pd.DataFrame(np.zeros((X.shape[0], len(patterns))),\n",
    "                              columns=patterns)\n",
    "    for i, color in enumerate(X['Color']):\n",
    "        for c in colors:\n",
    "            if c in color:\n",
    "                df_color.loc[i, c] = 1\n",
    "        for c in corresponding_colors.keys():\n",
    "            if c in color:\n",
    "                df_color.loc[i, corresponding_colors[c]] = 1\n",
    "        for p in patterns:\n",
    "            if p in color:\n",
    "                df_pattern.loc[i, p] = 1\n",
    "        for p in corresponding_patterns.keys():\n",
    "            if p in color:\n",
    "                df_pattern.loc[i, corresponding_patterns[p]] = 1"
   ]
  },
  {
   "cell_type": "markdown",
   "metadata": {},
   "source": [
    "### Breed\n",
    "\n",
    "I use the [FCI Nomenclature](http://www.fci.be/en/Nomenclature/) to group the breed of dogs in ten groups.\n",
    "I use the "
   ]
  },
  {
   "cell_type": "code",
   "execution_count": 15,
   "metadata": {
    "collapsed": true
   },
   "outputs": [],
   "source": [
    "groups = ['Sheepdogs_Cattledogs', 'Pinscher_Schnauzer', 'Terriers', \n",
    "          'Dachshunds', 'Spitz', 'Scent', 'Pointing', 'Retrievers',\n",
    "          'Companion', 'Sighthounds']\n",
    "corresponding_groups = {\n",
    "    'Cattle'    : 'Sheepdogs_Cattledogs',\n",
    "    'Kelpie'    : 'Sheepdogs_Cattledogs',\n",
    "    'Sheepdog'  : 'Sheepdogs_Cattledogs',\n",
    "    'Shepherd'  : 'Sheepdogs_Cattledogs',\n",
    "    'Dachshund' : 'Sheepdogs_Cattledogs',\n",
    "    'Collie'    : 'Sheepdogs_Cattledogs',\n",
    "    'Bull '     : 'Terriers'            ,\n",
    "    'Terrier'   : 'Terriers'            ,\n",
    "    'Staff'     : 'Terriers'            ,\n",
    "    'Retriever' : 'Retrievers'          ,\n",
    "    'Rottweiler': 'Pinscher_Schnauzer'  ,\n",
    "    'Boxer'     : 'Pinscher_Schnauzer'  ,\n",
    "    'Bulldog'   : 'Pinscher_Schnauzer'  ,\n",
    "    'Pinsch'    : 'Pinscher_Schnauzer'  ,\n",
    "    'Point'     : 'Pointing'            ,\n",
    "    'Chihuahua' : 'Companion'           ,\n",
    "    'Poodle'    : 'Companion'           ,\n",
    "    'Husky'     : 'Spitz'               ,\n",
    "    'Beagle'    : 'Scent'\n",
    "}\n",
    "sizes = ['Big', 'Small', 'Medium']\n",
    "hair_lengths = ['Short', 'Medium', 'Long']"
   ]
  },
  {
   "cell_type": "code",
   "execution_count": 16,
   "metadata": {
    "collapsed": false
   },
   "outputs": [
    {
     "ename": "NameError",
     "evalue": "name 'df_groups' is not defined",
     "output_type": "error",
     "traceback": [
      "\u001b[0;31m---------------------------------------------------------------------------\u001b[0m",
      "\u001b[0;31mNameError\u001b[0m                                 Traceback (most recent call last)",
      "\u001b[0;32m<ipython-input-16-482393a7cff9>\u001b[0m in \u001b[0;36m<module>\u001b[0;34m()\u001b[0m\n\u001b[0;32m----> 1\u001b[0;31m \u001b[0mdf_groups\u001b[0m\u001b[0;34m\u001b[0m\u001b[0m\n\u001b[0m\u001b[1;32m      2\u001b[0m \u001b[0mdf_sizes\u001b[0m\u001b[0;34m\u001b[0m\u001b[0m\n\u001b[1;32m      3\u001b[0m \u001b[0mdf_hair_lengths\u001b[0m\u001b[0;34m\u001b[0m\u001b[0m\n\u001b[1;32m      4\u001b[0m \u001b[0mdf_mix\u001b[0m\u001b[0;34m\u001b[0m\u001b[0m\n",
      "\u001b[0;31mNameError\u001b[0m: name 'df_groups' is not defined"
     ]
    }
   ],
   "source": [
    "df_groups\n",
    "df_sizes\n",
    "df_hair_lengths\n",
    "df_mix"
   ]
  },
  {
   "cell_type": "code",
   "execution_count": 22,
   "metadata": {
    "collapsed": false
   },
   "outputs": [
    {
     "ename": "TypeError",
     "evalue": "to_csv() missing 1 required positional argument: 'path'",
     "output_type": "error",
     "traceback": [
      "\u001b[0;31m---------------------------------------------------------------------------\u001b[0m",
      "\u001b[0;31mTypeError\u001b[0m                                 Traceback (most recent call last)",
      "\u001b[0;32m<ipython-input-22-fb94da0ec1a2>\u001b[0m in \u001b[0;36m<module>\u001b[0;34m()\u001b[0m\n\u001b[1;32m      1\u001b[0m \u001b[0mbreeds\u001b[0m \u001b[0;34m=\u001b[0m \u001b[0mpd\u001b[0m\u001b[0;34m.\u001b[0m\u001b[0mSeries\u001b[0m\u001b[0;34m(\u001b[0m\u001b[0mX\u001b[0m\u001b[0;34m[\u001b[0m\u001b[0mX\u001b[0m\u001b[0;34m[\u001b[0m\u001b[0;34m'AnimalType'\u001b[0m\u001b[0;34m]\u001b[0m \u001b[0;34m==\u001b[0m \u001b[0;34m'Dog'\u001b[0m\u001b[0;34m]\u001b[0m\u001b[0;34m[\u001b[0m\u001b[0;34m'Breed'\u001b[0m\u001b[0;34m]\u001b[0m\u001b[0;34m.\u001b[0m\u001b[0mvalue_counts\u001b[0m\u001b[0;34m(\u001b[0m\u001b[0;34m)\u001b[0m\u001b[0;34m.\u001b[0m\u001b[0mkeys\u001b[0m\u001b[0;34m(\u001b[0m\u001b[0;34m)\u001b[0m\u001b[0;34m)\u001b[0m\u001b[0;34m\u001b[0m\u001b[0m\n\u001b[0;32m----> 2\u001b[0;31m \u001b[0mbreeds\u001b[0m\u001b[0;34m.\u001b[0m\u001b[0mto_csv\u001b[0m\u001b[0;34m(\u001b[0m\u001b[0mindex\u001b[0m\u001b[0;34m=\u001b[0m\u001b[0;32mFalse\u001b[0m\u001b[0;34m)\u001b[0m\u001b[0;34m\u001b[0m\u001b[0m\n\u001b[0m",
      "\u001b[0;31mTypeError\u001b[0m: to_csv() missing 1 required positional argument: 'path'"
     ]
    }
   ],
   "source": [
    "breeds = pd.Series(X[X['AnimalType'] == 'Dog']['Breed'].value_counts().keys())\n",
    "breeds.to_csv('../data/', index=False)"
   ]
  },
  {
   "cell_type": "code",
   "execution_count": null,
   "metadata": {
    "collapsed": false
   },
   "outputs": [],
   "source": [
    "i = 0\n",
    "for k, v in X[X['AnimalType'] == 'Dog']['Breed'].value_counts().items():\n",
    "    if not any(b in k for b in groups + list(corresponding_groups.keys())):\n",
    "        print('{:45}{:>4}'.format(k, v))\n",
    "        i += 1\n",
    "print(i)"
   ]
  },
  {
   "cell_type": "markdown",
   "metadata": {},
   "source": [
    "For the cats, I use the size (small, medium, big), the hair length (short, medium, long) and whether they are a mix or not to classify them in smaller categories."
   ]
  },
  {
   "cell_type": "code",
   "execution_count": null,
   "metadata": {
    "collapsed": false
   },
   "outputs": [],
   "source": [
    "X[X['AnimalType'] == 'Cat']['Breed'].value_counts()"
   ]
  },
  {
   "cell_type": "code",
   "execution_count": null,
   "metadata": {
    "collapsed": false
   },
   "outputs": [],
   "source": [
    "n_mixes = df[df['Breed'].str.contains('Mix|/')].shape[0]\n",
    "n = df.shape[0]\n",
    "print('Number of mixed animals: {} ({:4.2f}%)'.format(n_mixes, 100 * n_mixes / n))\n",
    "print('Total number of animals:', n)"
   ]
  }
 ],
 "metadata": {
  "kernelspec": {
   "display_name": "Python 3",
   "language": "python",
   "name": "python3"
  },
  "language_info": {
   "codemirror_mode": {
    "name": "ipython",
    "version": 3
   },
   "file_extension": ".py",
   "mimetype": "text/x-python",
   "name": "python",
   "nbconvert_exporter": "python",
   "pygments_lexer": "ipython3",
   "version": "3.4.2"
  }
 },
 "nbformat": 4,
 "nbformat_minor": 0
}
