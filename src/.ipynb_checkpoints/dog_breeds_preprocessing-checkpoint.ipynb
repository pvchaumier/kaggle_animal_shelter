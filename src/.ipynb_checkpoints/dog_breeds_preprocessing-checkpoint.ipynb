{
 "cells": [
  {
   "cell_type": "markdown",
   "metadata": {},
   "source": [
    "# Dog breed preprocessing\n",
    "\n",
    "Here is a notebook to switch from breed to group as defined in the [FCI Nomenclature](http://www.fci.be/en/Nomenclature/).\n",
    "\n",
    "RQ: If you want to try this notebook, you can modify the DATAFOLDER variable to link to your train.csv file."
   ]
  },
  {
   "cell_type": "code",
   "execution_count": 1,
   "metadata": {
    "collapsed": false
   },
   "outputs": [],
   "source": [
    "import numpy as np\n",
    "import pandas as pd\n",
    "import requests\n",
    "import re\n",
    "\n",
    "from bs4 import BeautifulSoup\n",
    "\n",
    "DATAFOLDER = '../data/'"
   ]
  },
  {
   "cell_type": "code",
   "execution_count": null,
   "metadata": {
    "collapsed": false
   },
   "outputs": [],
   "source": [
    "#\n",
    "# Data cleaning for the crawler\n",
    "#\n",
    "\n",
    "def clean_breed(breed):\n",
    "    breed = breed.upper()\n",
    "    breed = re.sub(' *MIX *', '', breed)\n",
    "    breed = breed.replace(' ', '+')\n",
    "    return breed.split('/')\n",
    "\n",
    "breeds = pd.read_csv(DATAFOLDER + 'train.csv')\n",
    "breeds = breeds[breeds['AnimalType'] == 'Dog']['Breed'].value_counts().keys()\n",
    "breeds = list(set(b for bb in breeds for b in clean_breed(bb)))"
   ]
  },
  {
   "cell_type": "code",
   "execution_count": null,
   "metadata": {
    "collapsed": false
   },
   "outputs": [],
   "source": [
    "#\n",
    "# CRAWLER\n",
    "#\n",
    "# Objective:\n",
    "# ----------\n",
    "# Find the group of each breed that we have in the dataset.\n",
    "#\n",
    "# Steps:\n",
    "# ------\n",
    "# 1. Simulate a search with a breed name on the FCI website\n",
    "# 2. Visit all the result pages until:\n",
    "#     - there is no more pages\n",
    "#     - the breed is found\n",
    "#\n",
    "# Results:\n",
    "# --------\n",
    "# 1. dictionary with all the breeds found by the crawler with\n",
    "#    the corresponding group\n",
    "# 2. list of the not found breeds that need a manual search on the web\n",
    "#\n",
    "# Examples of special breeds:\n",
    "# ---------------------------\n",
    "# -> valid answer: ENGLISH POINTER\n",
    "# -> no answer: POMERANIAN\n",
    "# -> no valid answer: ENGLISH SHEPHERD\n",
    "#\n",
    "\n",
    "breed_group = dict()\n",
    "breed_not_found = []\n",
    "search_url = 'http://www.fci.be/en/nomenclature/races.aspx?search='\n",
    "for breed in breeds:\n",
    "    url = search_url + breed\n",
    "    r = requests.get(url)\n",
    "    bs = BeautifulSoup(r.content, 'html.parser')\n",
    "    search_results = bs.select('ul.listeraces a')\n",
    "    result_counter = 0\n",
    "    while result_counter < len(search_results):\n",
    "        result_href = search_results[result_counter]\n",
    "        result_counter += 1\n",
    "        result_url = 'http://www.fci.be' + result_href.get('href')\n",
    "        r2 = requests.get(result_url)\n",
    "        bs2 = BeautifulSoup(r2.content, 'html.parser')\n",
    "        css_ids = ['#ContentPlaceHolder1_NomEnLabel',\n",
    "                   '#ContentPlaceHolder1_NomFRLabel',\n",
    "                   '#ContentPlaceHolder1_NomDELabel',\n",
    "                   '#ContentPlaceHolder1_NomESLabel']\n",
    "        possible_names = [bs2.select(css_id)[0].text.replace(' ', '+').upper() \n",
    "                              for css_id in css_ids]\n",
    "        # Check if the result correspond to the breed name\n",
    "        if any(breed in name or name in breed for name in possible_names):\n",
    "            html_group = bs2.select('#ContentPlaceHolder1_GroupeHyperLink')\n",
    "            group = html_group[0].get('href')[9+len('clature/')]\n",
    "            breed_group[breed] = group\n",
    "            break\n",
    "        elif result_counter == len(search_results):\n",
    "            breed_not_found.append(breed)"
   ]
  },
  {
   "cell_type": "code",
   "execution_count": null,
   "metadata": {
    "collapsed": false
   },
   "outputs": [],
   "source": [
    "size = 20\n",
    "print('#' * size)\n",
    "print('# Known Groups')\n",
    "print('#' * size)\n",
    "print('{:35} {}'.format('BREED', 'GROUP'))\n",
    "for k, v in breed_group.items():\n",
    "    print('{:35} {}'.format(k.replace('+', ' '), v))\n",
    "\n",
    "print('\\n' + '#' * size)\n",
    "print('# Unknown Groups')\n",
    "print('#' * size)\n",
    "for b in sorted(breed_not_found):\n",
    "    print(b.replace('+', ' '))\n",
    "    \n",
    "print('\\n' + '#' * size)\n",
    "print('# Number of each category')\n",
    "print('#' * size)\n",
    "print('GROUP    ', len(breed_group))\n",
    "print('W/O GROUP', len(breed_not_found))"
   ]
  },
  {
   "cell_type": "markdown",
   "metadata": {},
   "source": [
    "Now for all races that were not found, I am going to manually check them. Using both de FCI website and wikipedia.\n",
    "\n",
    "1. Sheepdogs and Cattledogs (except Swiss Cattledogs)\n",
    "2. Pinscher and Schnauzer - Molossoid and Swiss Mountain and Cattledogs\n",
    "3. Terriers\n",
    "4. Dachshunds\n",
    "5. Spitz and primitive types\n",
    "6. Scent hounds and related breeds\n",
    "7. Pointing Dogs\n",
    "8. Retrievers - Flushing Dogs - Water Dogs9 Companion and Toy Dogs\n",
    "10. Sighthounds"
   ]
  },
  {
   "cell_type": "code",
   "execution_count": null,
   "metadata": {
    "collapsed": false
   },
   "outputs": [],
   "source": [
    "breed_group_manual = {\n",
    "    'ALASKAN+HUSKY'               : '5',\n",
    "    'AMERICAN+ESKIMO'             : '6',\n",
    "    'ANATOL+SHEPHERD'             : '1',\n",
    "    'BELGIAN+MALINOIS'            : '1',\n",
    "    'BELGIAN+SHEEPDOG'            : '1',\n",
    "    'BELGIAN+TERVUREN'            : '1',\n",
    "    'BLACK+MOUTH+CUR'             : '6',\n",
    "    'BLUE+LACY'                   : '6', # not an official breed\n",
    "    'BLUETICK+HOUND'              : '6',\n",
    "    'BRUSS+GRIFFON'               : '9', # brusselian griffon\n",
    "    'CANE+CORSO'                  : '2',\n",
    "    'CARDIGAN+WELSH+CORGI'        : '1',\n",
    "    'CAROLINA+DOG'                : '1', # not an official breed\n",
    "    'CAVALIER+SPAN'               : '9',\n",
    "    'CHESA+BAY+RETR'              : '8',\n",
    "    'CHINESE+SHARPEI'             : '2',\n",
    "    'DOBERMAN+PINSCH'             : '2',\n",
    "    'ENGLISH+COONHOUND'           : '6',\n",
    "    'ENGLISH+SHEPHERD'            : '1',\n",
    "    'FLAT+COAT+RETRIEVER'         : '8',\n",
    "    'GERMAN+SHORTHAIR+POINTER'    : '7',\n",
    "    'GERMAN+WIREHAIRED+POINTER'   : '7',\n",
    "    'GREAT+PYRENEES'              : '2',\n",
    "    'GREATER+SWISS+MOUNTAIN+DOG'  : '2',\n",
    "    'IBIZAN+HOUND'                : '5',\n",
    "    'IRISH+SETTER'                : '7',\n",
    "    'MEXICAN+HAIRLESS'            : '5',\n",
    "    'PEMBROKE+WELSH+CORGI'        : '1',\n",
    "    'PIT+BULL'                    : '3',\n",
    "    'PLOTT+HOUND'                 : '6',\n",
    "    'PODENGO+PEQUENO'             : '5',\n",
    "    'PORT+WATER+DOG'              : '8', # portuguese water dog\n",
    "    'PRESA+CANARIO'               : '2',\n",
    "    'RAT+TERRIER'                 : '3',\n",
    "    'REDBONE+HOUND'               : '6',\n",
    "    'RHOD+RIDGEBACK'              : '6', # Rhodesian Ridgeback\n",
    "    'SMOOTH+FOX+TERRIER'          : '3',\n",
    "    'TOY+FOX+TERRIER'             : '9',\n",
    "    'TREEING+CUR'                 : '2', # not an official breed\n",
    "    'TREEING+WALKER+COONHOUND'    : '6',\n",
    "    'WIRE+HAIR+FOX+TERRIER'       : '3',\n",
    "    'WIREHAIRED+POINTING+GRIFFON' : '7'\n",
    "}\n",
    "\n",
    "breed_group.update(breed_group_manual)"
   ]
  },
  {
   "cell_type": "code",
   "execution_count": null,
   "metadata": {
    "collapsed": true
   },
   "outputs": [],
   "source": [
    "#\n",
    "# Dump breed/group correspondance in file\n",
    "#\n",
    "with open(DATAFOLDER + 'breed_group.csv', 'w') as f:\n",
    "    f.write('BREED,GROUP\\n')\n",
    "    for k, v in breed_group.items():\n",
    "        f.write(k + ',' + v + '\\n')"
   ]
  }
 ],
 "metadata": {
  "kernelspec": {
   "display_name": "Python 3",
   "language": "python",
   "name": "python3"
  },
  "language_info": {
   "codemirror_mode": {
    "name": "ipython",
    "version": 3
   },
   "file_extension": ".py",
   "mimetype": "text/x-python",
   "name": "python",
   "nbconvert_exporter": "python",
   "pygments_lexer": "ipython3",
   "version": "3.4.2"
  }
 },
 "nbformat": 4,
 "nbformat_minor": 0
}
